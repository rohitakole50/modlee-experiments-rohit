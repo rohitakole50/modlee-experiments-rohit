{
 "cells": [
  {
   "cell_type": "code",
   "id": "initial_id",
   "metadata": {
    "collapsed": true,
    "jupyter": {
     "is_executing": true
    }
   },
   "source": [
    "import os\n",
    "import pandas as pd\n",
    "import torch\n",
    "from torch.utils.data import DataLoader, Dataset\n",
    "import modlee\n",
    "import pytorch_lightning as pl\n",
    "from sklearn.model_selection import train_test_split\n",
    "from sklearn.preprocessing import StandardScaler, OneHotEncoder\n",
    "from sklearn.compose import ColumnTransformer\n",
    "from sklearn.pipeline import Pipeline\n",
    "import numpy as np"
   ],
   "execution_count": null,
   "outputs": []
  },
  {
   "metadata": {
    "jupyter": {
     "is_executing": true
    }
   },
   "cell_type": "code",
   "source": [
    "os.environ['MODLEE_API_KEY'] = \"E1S58A6F4dUUBJEG02E1R1TG631i8b8E\"\n",
    "\n",
    "import modlee\n",
    "if os.environ.get('MODLEE_API_KEY') is None:\n",
    "    print(\"Module key not set\")\n",
    "else:\n",
    "    modlee.init(api_key=os.environ.get('MODLEE_API_KEY'))\n",
    "    print(\"Module initialized\")"
   ],
   "id": "7220fe0602284c00",
   "execution_count": null,
   "outputs": []
  },
  {
   "metadata": {},
   "cell_type": "code",
   "execution_count": null,
   "source": [
    "file_path = '/mnt/data/housing.csv'\n",
    "df = pd.read_csv(file_path)"
   ],
   "id": "bb7464bebea0208d",
   "outputs": []
  },
  {
   "metadata": {},
   "cell_type": "code",
   "execution_count": null,
   "source": [
    "X = df.drop(['median_house_value'],axis=1)\n",
    "y = df['median_house_value']\n",
    "\n",
    "categorical_cols = ['ocean_proximity']  # Replace with your actual categorical columns\n",
    "numerical_cols = [col for col in X if col not in categorical_cols]\n",
    "\n",
    "# Split the data into training and testing sets\n",
    "X_train, X_val, y_train, y_val = train_test_split(X, y, test_size=0.2, random_state=42)"
   ],
   "id": "58088c7f618962ab",
   "outputs": []
  },
  {
   "metadata": {},
   "cell_type": "code",
   "execution_count": null,
   "source": [
    "# Preprocessing for numerical data\n",
    "numerical_transformer = Pipeline(steps=[\n",
    "    ('scaler', StandardScaler())\n",
    "])\n",
    "\n",
    "# Preprocessing for categorical data\n",
    "categorical_transformer = Pipeline(steps=[\n",
    "    ('onehot', OneHotEncoder(handle_unknown='ignore'))\n",
    "])\n",
    "\n",
    "# Bundle preprocessing for numerical and categorical data\n",
    "preprocessor = ColumnTransformer(\n",
    "    transformers=[\n",
    "        ('num', numerical_transformer, numerical_cols),\n",
    "        ('cat', categorical_transformer, categorical_cols)\n",
    "    ])\n",
    "\n",
    "# Preprocess features\n",
    "X = preprocessor.fit_transform(X_train)\n",
    "# Transform the validation data\n",
    "X_val = preprocessor.transform(X_val)"
   ],
   "id": "a8cffc32e0cdb66d",
   "outputs": []
  },
  {
   "metadata": {},
   "cell_type": "code",
   "execution_count": null,
   "source": [
    "# Define custom dataset\n",
    "class TextRegressionDataset(Dataset):\n",
    "    def __init__(self, features, labels):\n",
    "        self.features = features\n",
    "        self.labels = labels\n",
    "\n",
    "    def __len__(self):\n",
    "        return len(self.features)\n",
    "\n",
    "    def __getitem__(self, idx):\n",
    "        sample = self.features[idx]\n",
    "        label = self.labels[idx]\n",
    "        return torch.tensor(sample, dtype=torch.float32), torch.tensor(label, dtype=torch.float32)\n",
    "\n",
    "# Create datasets\n",
    "train_dataset = TextRegressionDataset(X_train, y_train)\n",
    "val_dataset = TextRegressionDataset(X_val, y_val)"
   ],
   "id": "3b6e0ee04dd43522",
   "outputs": []
  },
  {
   "metadata": {},
   "cell_type": "code",
   "execution_count": null,
   "source": [
    "# Create dataloaders\n",
    "train_dataloader = DataLoader(train_dataset, batch_size=16, shuffle=True)\n",
    "val_dataloader = DataLoader(val_dataset, batch_size=16, shuffle=False)"
   ],
   "id": "5353eaae0c0deeca",
   "outputs": []
  },
  {
   "metadata": {},
   "cell_type": "code",
   "execution_count": null,
   "source": [
    "recommender = modlee.recommender.from_modality_task(\n",
    "    modality='text',\n",
    "    task='regression',\n",
    ")\n",
    "recommender.fit(train_dataloader)\n",
    "modlee_model = recommender.model\n",
    "print(f\"\\nRecommended model: \\n{modlee_model}\")"
   ],
   "id": "a28dff50f5c22aab",
   "outputs": []
  },
  {
   "metadata": {},
   "cell_type": "code",
   "execution_count": null,
   "source": [
    "with modlee.start_run() as run:\n",
    "    trainer = pl.Trainer(max_epochs=1)\n",
    "    trainer.fit(\n",
    "        model=modlee_model,\n",
    "        train_dataloaders=train_dataloader\n",
    "    )"
   ],
   "id": "b85ef0b4f4846a22",
   "outputs": []
  },
  {
   "metadata": {},
   "cell_type": "code",
   "execution_count": null,
   "source": [
    "# Validation\n",
    "trainer.validate(\n",
    "    model=modlee_model,\n",
    "    val_dataloaders=val_dataloader\n",
    ")"
   ],
   "id": "a2ac5889972ec95b",
   "outputs": []
  },
  {
   "metadata": {},
   "cell_type": "code",
   "execution_count": null,
   "source": [
    "last_run_path = modlee.last_run_path()\n",
    "print(f\"Run path: {last_run_path}\")\n",
    "artifacts_path = os.path.join(last_run_path, 'artifacts')\n",
    "artifacts = sorted(os.listdir(artifacts_path))\n",
    "print(f\"Saved artifacts: {artifacts}\")"
   ],
   "id": "626673d09d6c4c1",
   "outputs": []
  }
 ],
 "metadata": {
  "kernelspec": {
   "display_name": "Python 3",
   "language": "python",
   "name": "python3"
  },
  "language_info": {
   "codemirror_mode": {
    "name": "ipython",
    "version": 2
   },
   "file_extension": ".py",
   "mimetype": "text/x-python",
   "name": "python",
   "nbconvert_exporter": "python",
   "pygments_lexer": "ipython2",
   "version": "2.7.6"
  }
 },
 "nbformat": 4,
 "nbformat_minor": 5
}
